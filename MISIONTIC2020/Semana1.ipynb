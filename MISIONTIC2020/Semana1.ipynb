{
 "cells": [
  {
   "cell_type": "markdown",
   "id": "d91c63b7",
   "metadata": {
    "slideshow": {
     "slide_type": "slide"
    }
   },
   "source": [
    "# 1. Impresiones en Python"
   ]
  },
  {
   "cell_type": "code",
   "execution_count": null,
   "id": "6af1e7e7",
   "metadata": {
    "slideshow": {
     "slide_type": "fragment"
    }
   },
   "outputs": [],
   "source": [
    "print(\"Aprendamos a imprimir mensajes con Python\")"
   ]
  },
  {
   "cell_type": "markdown",
   "id": "94ebe9ab",
   "metadata": {
    "slideshow": {
     "slide_type": "subslide"
    }
   },
   "source": [
    "### Comentarios\n",
    "- Anular código\n",
    "- Colocar aclaraciones\n",
    "- Fácil entendimiento"
   ]
  },
  {
   "cell_type": "code",
   "execution_count": null,
   "id": "51847dee",
   "metadata": {
    "scrolled": true,
    "slideshow": {
     "slide_type": "fragment"
    }
   },
   "outputs": [],
   "source": [
    "print(\"Aprendamos a imprimir mensajes en Python\")\n",
    "#print(\"Aprendamos a imprimir mensajes en Java\")"
   ]
  },
  {
   "cell_type": "markdown",
   "id": "746b1819",
   "metadata": {
    "slideshow": {
     "slide_type": "subslide"
    }
   },
   "source": [
    "##Se pueden usar comillas simples, dobles y hasta triples para representar strings."
   ]
  },
  {
   "cell_type": "code",
   "execution_count": null,
   "id": "0e536e80",
   "metadata": {
    "scrolled": true,
    "slideshow": {
     "slide_type": "fragment"
    }
   },
   "outputs": [],
   "source": [
    "print('Texto con comillas simples')\n",
    "print(\"Texto con comillas dobles\")\n",
    "print(\"\"\"Texto con comillas triples\"\"\")"
   ]
  },
  {
   "cell_type": "markdown",
   "id": "927d2926",
   "metadata": {
    "slideshow": {
     "slide_type": "subslide"
    }
   },
   "source": [
    "##Para separar dos declaraciones ejecutables separadas en una sola línea, debe usar un punto y coma (;) para separar los comandos."
   ]
  },
  {
   "cell_type": "code",
   "execution_count": null,
   "id": "3160e340",
   "metadata": {
    "slideshow": {
     "slide_type": "fragment"
    }
   },
   "outputs": [],
   "source": [
    "print (\"Primera Linea\"); print (\"Segunda Linea\")"
   ]
  },
  {
   "cell_type": "markdown",
   "id": "8dfa6013",
   "metadata": {
    "slideshow": {
     "slide_type": "fragment"
    }
   },
   "source": [
    "##Se pueden unir palabras con (+) ó (,). Lo más recomendable es usar (,)"
   ]
  },
  {
   "cell_type": "code",
   "execution_count": null,
   "id": "c5d3f5a9",
   "metadata": {
    "slideshow": {
     "slide_type": "fragment"
    }
   },
   "outputs": [],
   "source": [
    "print(\"Hola\",\"mundo\")\n",
    "print(\"Hola\"+\"mundo\")"
   ]
  },
  {
   "cell_type": "markdown",
   "id": "1e135d80",
   "metadata": {
    "slideshow": {
     "slide_type": "subslide"
    }
   },
   "source": [
    "##Parámetros sep y end pueden cambiar la forma en que se imprimen los contenidos\n",
    "###Parámetro end"
   ]
  },
  {
   "cell_type": "code",
   "execution_count": null,
   "id": "6dfbfc89",
   "metadata": {
    "slideshow": {
     "slide_type": "fragment"
    }
   },
   "outputs": [],
   "source": [
    "print(\"Hola\",)\n",
    "print(\"mundo\")\n",
    "\n",
    "print(\"Hola\", end=\" \")\n",
    "print(\"mundo\")\n",
    "\n",
    "print(\"Hola\", end=\"**\")\n",
    "print(\"mundo\")"
   ]
  },
  {
   "cell_type": "markdown",
   "id": "1728ed70",
   "metadata": {
    "slideshow": {
     "slide_type": "subslide"
    }
   },
   "source": [
    "###Parámetro Sep"
   ]
  },
  {
   "cell_type": "code",
   "execution_count": null,
   "id": "680f9636",
   "metadata": {
    "slideshow": {
     "slide_type": "fragment"
    }
   },
   "outputs": [],
   "source": [
    "print(\"Hola\",\"mundo\", \"!\", sep=\"\")\n",
    "print(\"Hola\",\"mundo\", \"!\", sep=\",\")\n",
    "print(\"Hola\",\"mundo\", \"!\", sep=\"**\")\n",
    "print(\"Hola\",\"\\nmundo\", \"!\", sep=\", \")"
   ]
  },
  {
   "cell_type": "markdown",
   "id": "2cbd7b7f",
   "metadata": {
    "slideshow": {
     "slide_type": "subslide"
    }
   },
   "source": [
    "##Impresión de variables"
   ]
  },
  {
   "cell_type": "code",
   "execution_count": null,
   "id": "5065c109",
   "metadata": {
    "slideshow": {
     "slide_type": "fragment"
    }
   },
   "outputs": [],
   "source": [
    "a = 7+5\n",
    "print(a)\n",
    "print(7+5)\n",
    "print(\"Esto es un texto literal\",a)"
   ]
  },
  {
   "cell_type": "code",
   "execution_count": null,
   "id": "cd3f0e69",
   "metadata": {
    "slideshow": {
     "slide_type": "fragment"
    }
   },
   "outputs": [],
   "source": [
    "a = 8\n",
    "b = \"Total = \"\n",
    "#print(b+a) #Error, tipos incompatibles\n",
    "print(b,a)"
   ]
  },
  {
   "cell_type": "markdown",
   "id": "b8904aea",
   "metadata": {
    "slideshow": {
     "slide_type": "subslide"
    }
   },
   "source": [
    "##Impresión de variables con f-string"
   ]
  },
  {
   "cell_type": "code",
   "execution_count": null,
   "id": "8322dcfc",
   "metadata": {
    "slideshow": {
     "slide_type": "fragment"
    }
   },
   "outputs": [],
   "source": [
    "a = 7\n",
    "b = 5\n",
    "titulo = \"Total = \"\n",
    "print(f\"{titulo} 7+5\")\n",
    "print(f\" 7+5 = {a+b}\")"
   ]
  },
  {
   "cell_type": "markdown",
   "id": "105cb158",
   "metadata": {
    "slideshow": {
     "slide_type": "subslide"
    }
   },
   "source": [
    "##Impresión de variables con str.format()"
   ]
  },
  {
   "cell_type": "code",
   "execution_count": null,
   "id": "fbbc5c33",
   "metadata": {
    "slideshow": {
     "slide_type": "fragment"
    }
   },
   "outputs": [],
   "source": [
    "a = 7\n",
    "b = 5\n",
    "titulo = \"Total = \"\n",
    "\n",
    "print(\"Imprimir dos variables con format {} y {}\".format(a,b))\n",
    "print(\"Imprimir dos variables con format {0} y {1}\".format(a,b))\n",
    "print(\"Imprimir dos variables con format {1} y {0}\".format(a,b))\n",
    "print(\"Imprimir dos variables con format {v1} y {v2}\".format(v1=a,v2=b))\n",
    "print(\"Imprimir dos variables con format {0},{1}, y {otro}\".format(a,b,otro=\"gato\"))"
   ]
  },
  {
   "cell_type": "markdown",
   "id": "0f959e9f",
   "metadata": {
    "slideshow": {
     "slide_type": "slide"
    }
   },
   "source": [
    "# 2. Recibir datos en Python"
   ]
  },
  {
   "cell_type": "code",
   "execution_count": null,
   "id": "5dea191a",
   "metadata": {
    "slideshow": {
     "slide_type": "fragment"
    }
   },
   "outputs": [],
   "source": [
    "Dato1 = input(\"Escriba el dato1\")\n",
    "print(Dato1)"
   ]
  },
  {
   "cell_type": "markdown",
   "id": "fbabb2e0",
   "metadata": {
    "slideshow": {
     "slide_type": "subslide"
    }
   },
   "source": [
    "##Uso de input() con f-string"
   ]
  },
  {
   "cell_type": "code",
   "execution_count": null,
   "id": "72b109c2",
   "metadata": {
    "slideshow": {
     "slide_type": "fragment"
    }
   },
   "outputs": [],
   "source": [
    "nombre = input(\"Dígite su nombre\")\n",
    "apellido = input(f\"ahora {nombre} Dígite su apellido\")\n",
    "print(\"Nombre:\", nombre, \"Apellido:\", apellido)"
   ]
  },
  {
   "cell_type": "code",
   "execution_count": null,
   "id": "a67ff2e3",
   "metadata": {
    "slideshow": {
     "slide_type": "fragment"
    }
   },
   "outputs": [],
   "source": [
    "edad = input(\"Dígite su edad\")\n",
    "print(type(edad))\n",
    "\n",
    "edad = int(input(\"Dígite su edad\"))\n",
    "operacion = edad +2;\n",
    "print(operacion)"
   ]
  },
  {
   "cell_type": "code",
   "execution_count": null,
   "id": "6f2c4de7",
   "metadata": {
    "slideshow": {
     "slide_type": "fragment"
    }
   },
   "outputs": [],
   "source": [
    "a = input(\"Entre un número\")\n",
    "b = input(\"Entre otro número\")\n",
    "print(a+b)\n",
    "\n",
    "a = int(input(\"Entre un número\"))\n",
    "b = int(input(\"Entre otro número\"))\n",
    "print(a+b)\n",
    "\n",
    "a = float(input(\"Entre un número\"))\n",
    "b = float(input(\"Entre otro número\"))\n",
    "print(a+b)\n"
   ]
  },
  {
   "cell_type": "markdown",
   "id": "492c8de4",
   "metadata": {
    "slideshow": {
     "slide_type": "slide"
    }
   },
   "source": [
    "# 3. Variables"
   ]
  },
  {
   "cell_type": "markdown",
   "id": "69d352f0",
   "metadata": {
    "slideshow": {
     "slide_type": "fragment"
    }
   },
   "source": [
    "- En programación, el tipo de datos es un concepto importante.\n",
    "- Las variables pueden almacenar datos de diferentes tipos y diferentes tipos pueden hacer cosas diferentes.\n",
    "- Python tiene los siguientes tipos de datos integrados de forma predeterminada, en estas categorías:\n",
    "Tipo de texto:\tstr\n",
    "Tipos númericos:\tint, float, complex\n",
    "Tipos de secuencia:\tlist, tuple, range\n",
    "Tipo de mapeo:\tdict\n",
    "Tipo de conjunto:\tset, frozenset\n",
    "Tipo booleano:\tbool\n",
    "Tipos binarios:\tbytes, bytearray, memoryview"
   ]
  },
  {
   "cell_type": "markdown",
   "id": "319307a9",
   "metadata": {
    "slideshow": {
     "slide_type": "subslide"
    }
   },
   "source": [
    "### Declaración de variables\n",
    "- Para declarar una variable, primero debemos darle un nombre cualquiera a la variable utilizando letras y números sin espacios, teniendo en cuenta que las mayúsculas importan. \n",
    "- Luego de darle un nombre a la variable, se le asigna un valor por medio del operador “=”. \n",
    "- De esta forma, el programa puede separar un bloque de memoria para la variable y guardar en dicho bloque el valor de esta. \n",
    "- A diferencia de otros lenguajes de programación, en Python no se puede declarar una variable sin asignarle un valor."
   ]
  },
  {
   "cell_type": "code",
   "execution_count": null,
   "id": "00906ad8",
   "metadata": {
    "slideshow": {
     "slide_type": "fragment"
    }
   },
   "outputs": [],
   "source": [
    "#Creando variables\n",
    "x = 5\n",
    "y = \"Luisa\"\n",
    "\n",
    "print(x, type(x))\n",
    "print(y, type(y))"
   ]
  },
  {
   "cell_type": "markdown",
   "id": "30559d50",
   "metadata": {
    "slideshow": {
     "slide_type": "subslide"
    }
   },
   "source": [
    "#Tipos númericos"
   ]
  },
  {
   "cell_type": "code",
   "execution_count": null,
   "id": "8bcfca13",
   "metadata": {
    "slideshow": {
     "slide_type": "fragment"
    }
   },
   "outputs": [],
   "source": [
    "miVariableEntera = 4\n",
    "miVariableReal = 4.0\n",
    "multiplicación = 3.1 * -2\n",
    "print(miVariableEntera)\n",
    "print(miVariableReal)\n",
    "print(multiplicación)\n",
    "print(\"La suma de dos variables: \", miVariableEntera+miVariableReal)"
   ]
  },
  {
   "cell_type": "code",
   "execution_count": null,
   "id": "40061b81",
   "metadata": {
    "slideshow": {
     "slide_type": "fragment"
    }
   },
   "outputs": [],
   "source": []
  },
  {
   "cell_type": "markdown",
   "id": "f562aa65",
   "metadata": {
    "slideshow": {
     "slide_type": "subslide"
    }
   },
   "source": [
    "#Tipos String o textos\n",
    "- Las variables de tipo string se utilizan para almacenar texto, o cadenas de caracteres.\n",
    "- Si queremos almacenar un texto, basta con escribir el texto que se desee almacenar entre comillas y asignarle una variable."
   ]
  },
  {
   "cell_type": "code",
   "execution_count": null,
   "id": "c8ffa120",
   "metadata": {
    "slideshow": {
     "slide_type": "fragment"
    }
   },
   "outputs": [],
   "source": [
    "string1 = \"Hola\"\n",
    "string2 = \"Beneficiario\"\n",
    "stringDeNumeros = \"156465454\"\n",
    "print(string1)\n",
    "print(string2)\n",
    "print(stringDeNumeros)\n",
    "print(\"Strings combinados: \",string1,string2,stringDeNumeros)"
   ]
  },
  {
   "cell_type": "markdown",
   "id": "01c5b7e6",
   "metadata": {
    "slideshow": {
     "slide_type": "subslide"
    }
   },
   "source": [
    "#Booleanos\n",
    "- Son variables que almacenan un valor de True o False. Generalmente utilizadas para almacenar resultados de comparaciones (se ve más adelante).\n",
    "- Note que Python tiene reservadas las palabras True y False."
   ]
  },
  {
   "cell_type": "code",
   "execution_count": null,
   "id": "9dc8e6c1",
   "metadata": {
    "slideshow": {
     "slide_type": "fragment"
    }
   },
   "outputs": [],
   "source": [
    "x = True\n",
    "y = False\n",
    "print(\"x es: \", x)"
   ]
  },
  {
   "cell_type": "markdown",
   "id": "6eb186a8",
   "metadata": {
    "slideshow": {
     "slide_type": "notes"
    }
   },
   "source": [
    "Ojo: la inicial de True y False es es mayúscula. "
   ]
  },
  {
   "cell_type": "code",
   "execution_count": null,
   "id": "935021a3",
   "metadata": {
    "slideshow": {
     "slide_type": "subslide"
    }
   },
   "outputs": [],
   "source": [
    "#Conviritiendo variables\n",
    "inicial = 3\n",
    "x = str(inicial)    # x will be '3'\n",
    "y = int(inicial)    # y will be 3\n",
    "z = float(inicial)  # z will be 3.0\n",
    "print(x)\n",
    "print(y)\n",
    "print(z)"
   ]
  },
  {
   "cell_type": "code",
   "execution_count": null,
   "id": "0cf9403c",
   "metadata": {
    "slideshow": {
     "slide_type": "fragment"
    }
   },
   "outputs": [],
   "source": [
    "#Variables son case-sensitive\n",
    "a = 4\n",
    "print(a)\n",
    "A = \"Sally\"\n",
    "print(A)\n"
   ]
  },
  {
   "cell_type": "markdown",
   "id": "5824ff03",
   "metadata": {
    "slideshow": {
     "slide_type": "slide"
    }
   },
   "source": [
    "# 4. Ejercicios"
   ]
  },
  {
   "cell_type": "markdown",
   "id": "871e0545",
   "metadata": {
    "slideshow": {
     "slide_type": "subslide"
    }
   },
   "source": [
    "•\tEjercicio [VariablesNumericas]\n",
    "- Cree tres variables:\n",
    "    Una para la edad de Bill Gates\n",
    "    Otra para la edad de Mark Zuckerberg.\n",
    "    Otra para la edad de Mariana Pajón.\n",
    "- Encuentre el promedio de las 3 edades anteriores.\n",
    "- Imprima el resultado por pantalla."
   ]
  },
  {
   "cell_type": "code",
   "execution_count": null,
   "id": "5fa94dda",
   "metadata": {
    "slideshow": {
     "slide_type": "fragment"
    }
   },
   "outputs": [],
   "source": []
  },
  {
   "cell_type": "markdown",
   "id": "b7ced81c",
   "metadata": {
    "slideshow": {
     "slide_type": "subslide"
    }
   },
   "source": [
    "•\tEjercicio [SolicitudInfo]\n",
    "- Cree un programa que le solicite al usuario:\n",
    "    Sus nombres y apellidos (guárdelos como String)\n",
    "    Su fecha de nacimiento (guárdela como String)\n",
    "    Su edad (guárdela como int)\n",
    "    Su estatura (guárdela como float)\n",
    "- Finalmente, imprima todos esos datos por pantalla."
   ]
  },
  {
   "cell_type": "code",
   "execution_count": null,
   "id": "7370399f",
   "metadata": {
    "slideshow": {
     "slide_type": "fragment"
    }
   },
   "outputs": [],
   "source": []
  },
  {
   "cell_type": "markdown",
   "id": "93dd14e0",
   "metadata": {
    "slideshow": {
     "slide_type": "subslide"
    }
   },
   "source": [
    "•\tEjercicio [area-rectangulo]\n",
    "-\tPídale al usuario por pantalla la base de un rectángulo (float)\n",
    "-\tPídale al usuario por pantalla la altura de un rectángulo (float)\n",
    "-\tCalcule el área del rectángulo (base*altura) -> asigne el resultado a una nueva variable (declaración)\n",
    "-\tMuestre el resultado por pantalla\n"
   ]
  },
  {
   "cell_type": "code",
   "execution_count": null,
   "id": "1c2d755f",
   "metadata": {
    "slideshow": {
     "slide_type": "fragment"
    }
   },
   "outputs": [],
   "source": []
  },
  {
   "cell_type": "markdown",
   "id": "9ca61cf9",
   "metadata": {
    "slideshow": {
     "slide_type": "subslide"
    }
   },
   "source": [
    "•\tEjercicio [edad]\n",
    "-\tPídale al usuario por pantalla el año en el que nació (ingrese números ej: 1990) (int)\n",
    "-\tPídale al usuario por pantalla el nombre (string)\n",
    "-\tCalcule la edad del usuario\n",
    "-\tMuéstrele por pantalla la edad al usuario\n"
   ]
  },
  {
   "cell_type": "code",
   "execution_count": null,
   "id": "14d30296",
   "metadata": {
    "slideshow": {
     "slide_type": "fragment"
    }
   },
   "outputs": [],
   "source": []
  },
  {
   "cell_type": "markdown",
   "id": "18e30e79",
   "metadata": {
    "slideshow": {
     "slide_type": "subslide"
    }
   },
   "source": [
    "•\tEjercicio [asteroides]\n",
    "-\tPídale al usuario un numero de asteroides (int)\n",
    "-\tPídale al usuario un nombre para todos los asteroides (string)\n",
    "-\tImprima por pantalla lo siguiente: “Los NUMERO_ASTEROIDES asteroides NOMBRE_ASTEROIDES caerán mañana”. (Nota reemplace NUMERO_ASTEROIDES y NOMBRE_ASTEROIDES por los valores recogidos por pantalla)\n"
   ]
  },
  {
   "cell_type": "code",
   "execution_count": null,
   "id": "741fdce4",
   "metadata": {
    "slideshow": {
     "slide_type": "fragment"
    }
   },
   "outputs": [],
   "source": []
  },
  {
   "cell_type": "markdown",
   "id": "70080a85",
   "metadata": {
    "slideshow": {
     "slide_type": "subslide"
    }
   },
   "source": [
    "•\tEjercicio [area-circulo]\n",
    "-\tPídale al usuario el radio de un círculo (float)\n",
    "-\tCalcule el área del circulo (area = 3.14*radio*radio)\n",
    "-\tImprima por pantalla el área\n"
   ]
  },
  {
   "cell_type": "code",
   "execution_count": null,
   "id": "4ecb8ff2",
   "metadata": {
    "slideshow": {
     "slide_type": "fragment"
    }
   },
   "outputs": [],
   "source": []
  }
 ],
 "metadata": {
  "celltoolbar": "Slideshow",
  "kernelspec": {
   "display_name": "Python 3",
   "language": "python",
   "name": "python3"
  },
  "language_info": {
   "codemirror_mode": {
    "name": "ipython",
    "version": 3
   },
   "file_extension": ".py",
   "mimetype": "text/x-python",
   "name": "python",
   "nbconvert_exporter": "python",
   "pygments_lexer": "ipython3",
   "version": "3.8.8"
  }
 },
 "nbformat": 4,
 "nbformat_minor": 5
}
